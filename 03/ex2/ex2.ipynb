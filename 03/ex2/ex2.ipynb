{
 "cells": [
  {
   "cell_type": "code",
   "execution_count": 58,
   "metadata": {},
   "outputs": [],
   "source": [
    "#Bütikofer Kevin, Charles-Lewis Jaggi\n",
    "\n",
    "import numpy as np\n",
    "import matplotlib.pyplot as plt "
   ]
  },
  {
   "cell_type": "code",
   "execution_count": 59,
   "metadata": {},
   "outputs": [],
   "source": [
    "textfile = open('ex2-system-a.csv')\n",
    "data = []\n",
    "for line in textfile:\n",
    "    row_data = line.strip(\"\\n\").split(\";\")[0:-1]\n",
    "    for i, item in enumerate(row_data):\n",
    "        try:\n",
    "            row_data[i] = float(item)\n",
    "        except ValueError:\n",
    "            pass\n",
    "    data.append(row_data)\n",
    "data = np.array(data)"
   ]
  },
  {
   "cell_type": "code",
   "execution_count": 60,
   "metadata": {},
   "outputs": [
    {
     "name": "stdout",
     "output_type": "stream",
     "text": [
      "[[5.34845e-08 7.49348e-10 8.08347e-07 ... 4.80859e-07 1.25033e-05\n",
      "  7.00000e+00]\n",
      " [1.33427e-03 3.20296e-05 8.50428e-01 ... 1.45633e-03 1.06292e-05\n",
      "  2.00000e+00]\n",
      " [3.64305e-06 9.96276e-01 2.04591e-03 ... 5.15012e-04 4.42546e-05\n",
      "  1.00000e+00]\n",
      " ...\n",
      " [3.85164e-07 5.58216e-06 6.71923e-07 ... 4.83738e-03 1.70994e-02\n",
      "  4.00000e+00]\n",
      " [5.83727e-05 4.88072e-05 6.84844e-09 ... 2.75059e-03 9.24820e-07\n",
      "  5.00000e+00]\n",
      " [1.36955e-06 4.46433e-10 2.76675e-05 ... 9.84101e-09 4.13793e-09\n",
      "  6.00000e+00]]\n"
     ]
    }
   ],
   "source": [
    "print(data)"
   ]
  },
  {
   "cell_type": "code",
   "execution_count": 65,
   "metadata": {},
   "outputs": [
    {
     "name": "stdout",
     "output_type": "stream",
     "text": [
      "error :  0.10729999999999995\n"
     ]
    }
   ],
   "source": [
    "y_pred = []\n",
    "def compute(data):\n",
    "    for row in data:\n",
    "        y_pred.append(np.argmax(row[0:-1]))\n",
    "\n",
    "compute(data)\n",
    "error = 1 - np.sum(y_pred == data[:,-1]) / len(data)\n",
    "print(\"error : \", error)"
   ]
  },
  {
   "cell_type": "code",
   "execution_count": 96,
   "metadata": {},
   "outputs": [
    {
     "name": "stdout",
     "output_type": "stream",
     "text": [
      "[[0 0 0 0 0 0 0 0 0 0]\n",
      " [0 0 0 0 0 0 0 0 0 0]\n",
      " [0 0 0 0 0 0 0 0 0 0]\n",
      " [0 0 0 0 0 0 0 0 0 0]\n",
      " [0 0 0 0 0 0 0 0 0 0]\n",
      " [0 0 0 0 0 0 0 0 0 0]\n",
      " [0 0 0 0 0 0 0 0 0 0]\n",
      " [0 0 0 0 0 0 0 0 0 0]\n",
      " [0 0 0 0 0 0 0 0 0 0]\n",
      " [0 0 0 0 0 0 0 0 0 0]]\n"
     ]
    }
   ],
   "source": [
    "matrix = np.zeros([10,10])\n",
    "matrix = matrix.astype(int)\n",
    "yt = data[:,-1]\n",
    "print(matrix)\n",
    "\n",
    "for yp, y in zip(y_pred, yt):\n",
    "        matrix[yp, int(y)] += 1\n",
    "    \n"
   ]
  },
  {
   "cell_type": "code",
   "execution_count": 97,
   "metadata": {},
   "outputs": [
    {
     "name": "stdout",
     "output_type": "stream",
     "text": [
      "[[ 944    0   10    1    2   12   14    0   12   10]\n",
      " [   0 1112    6    1    3    3    3   14   16    4]\n",
      " [  11    2  921   31    6    6   21   30   18    6]\n",
      " [   0    3   12  862    2   29    2    9   26   22]\n",
      " [   0    1   15    2  910   19   22    7   24   53]\n",
      " [   2    4    3   72    1  768   28    2   46   18]\n",
      " [  10    3   19    5   12   19  865    1   22    0]\n",
      " [   7    1   15   14    6    9    0  929   19   48]\n",
      " [   5    9   26   12    4   21    3    3  772    4]\n",
      " [   1    0    5   10   36    6    0   33   19  844]]\n"
     ]
    }
   ],
   "source": [
    "\n",
    "print(matrix)"
   ]
  },
  {
   "cell_type": "code",
   "execution_count": null,
   "metadata": {},
   "outputs": [],
   "source": []
  }
 ],
 "metadata": {
  "kernelspec": {
   "display_name": "Python 3",
   "language": "python",
   "name": "python3"
  },
  "language_info": {
   "codemirror_mode": {
    "name": "ipython",
    "version": 3
   },
   "file_extension": ".py",
   "mimetype": "text/x-python",
   "name": "python",
   "nbconvert_exporter": "python",
   "pygments_lexer": "ipython3",
   "version": "3.7.1"
  }
 },
 "nbformat": 4,
 "nbformat_minor": 2
}
