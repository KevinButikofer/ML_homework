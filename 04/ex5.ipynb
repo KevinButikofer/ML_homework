{
 "cells": [
  {
   "cell_type": "markdown",
   "metadata": {},
   "source": [
    "# Bütikofer Kevin, Charles-Lewis Jaggi"
   ]
  },
  {
   "cell_type": "markdown",
   "metadata": {},
   "source": [
    "a) When the data set is not big.  If data set is big the X^t*X matrix would be very hard to inverse.\n",
    "\n"
   ]
  },
  {
   "cell_type": "markdown",
   "metadata": {},
   "source": [
    "b) The impact can be be big. We take a x randomly in the set so an outlier can change a lot the theta and that involved more iteration. If there is many outliers the theta can diverge"
   ]
  },
  {
   "cell_type": "markdown",
   "metadata": {},
   "source": [
    "c) if too large, we will oscillate around the good thera or diverge. if too small we will take more iteration a minimum theta.\n",
    "\n",
    "*** à completer pour la better strategy ***"
   ]
  },
  {
   "cell_type": "markdown",
   "metadata": {},
   "source": [
    "d) I add in the matrix a column with xd^2 and oen with xd^3 and proceed the same as in exercies. *** numercial stability je sais pas***"
   ]
  },
  {
   "cell_type": "markdown",
   "metadata": {},
   "source": [
    "e)"
   ]
  },
  {
   "cell_type": "markdown",
   "metadata": {},
   "source": []
  },
  {
   "cell_type": "markdown",
   "metadata": {},
   "source": []
  }
 ],
 "metadata": {
  "kernelspec": {
   "display_name": "Python 3",
   "language": "python",
   "name": "python3"
  },
  "language_info": {
   "codemirror_mode": {
    "name": "ipython",
    "version": 3
   },
   "file_extension": ".py",
   "mimetype": "text/x-python",
   "name": "python",
   "nbconvert_exporter": "python",
   "pygments_lexer": "ipython3",
   "version": "3.7.1"
  }
 },
 "nbformat": 4,
 "nbformat_minor": 4
}
