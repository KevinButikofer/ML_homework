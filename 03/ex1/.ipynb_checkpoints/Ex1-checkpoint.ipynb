{
 "cells": [
  {
   "cell_type": "code",
   "execution_count": 2,
   "metadata": {},
   "outputs": [],
   "source": [
    "#Bütikofer Kevin, Charles-Lewis Jaggi\n",
    "\n",
    "import numpy as np\n",
    "import matplotlib.pyplot as plt "
   ]
  },
  {
   "cell_type": "code",
   "execution_count": 3,
   "metadata": {},
   "outputs": [],
   "source": [
    "textfile = open('ex1-data-train.csv')\n",
    "data = []\n",
    "for line in textfile:\n",
    "    row_data = line.strip(\"\\n\").split(\",\")\n",
    "    for i, item in enumerate(row_data):\n",
    "        try:\n",
    "            row_data[i] = float(item)\n",
    "        except ValueError:\n",
    "            pass\n",
    "    data.append(row_data)\n",
    "data = np.array(data)"
   ]
  },
  {
   "cell_type": "code",
   "execution_count": 4,
   "metadata": {},
   "outputs": [],
   "source": [
    "textfile = open('ex1-data-test.csv')\n",
    "data_test = []\n",
    "for line in textfile:\n",
    "    row_data = line.strip(\"\\n\").split(\",\")\n",
    "    for i, item in enumerate(row_data):\n",
    "        try:\n",
    "            row_data[i] = float(item)\n",
    "        except ValueError:\n",
    "            pass\n",
    "    data_test.append(row_data)\n",
    "data_test = np.array(data_test)"
   ]
  },
  {
   "cell_type": "code",
   "execution_count": 5,
   "metadata": {},
   "outputs": [
    {
     "data": {
      "image/png": "[encoded data removed]",
      "text/plain": [
       "<Figure size 432x288 with 1 Axes>"
      ]
     },
     "metadata": {
      "needs_background": "light"
     },
     "output_type": "display_data"
    }
   ],
   "source": [
    "fig, ax = plt.subplots()\n",
    "passed = np.array([i for i in data if i[2] == 1])\n",
    "failed = np.array([i for i in data if i[2] == 0])\n",
    "\n",
    "ax.scatter(passed[:,0], passed[:,1], marker='o')\n",
    "ax.scatter(failed[:,0], failed[:,1], marker='x')\n",
    "\n",
    "ax.set_xlabel('Exam 1 score x1', fontsize=15)\n",
    "ax.set_ylabel('Exam 2 score x2', fontsize=15)\n",
    "\n",
    "ax.grid(True)\n",
    "fig.tight_layout()\n",
    "\n",
    "plt.show()"
   ]
  },
  {
   "cell_type": "code",
   "execution_count": 6,
   "metadata": {},
   "outputs": [
    {
     "name": "stdout",
     "output_type": "stream",
     "text": [
      "[0, 0, 1, 0, 0, 0, 1, 0, 1, 1, 0, 1, 1, 1, 0, 0, 1, 0, 1, 0, 1, 1, 0, 1, 0, 1, 0, 0, 0, 1, 0, 1, 1, 0, 1, 0, 1, 1, 1, 1, 1, 0, 1, 1, 1, 0, 1, 0, 0, 0, 1, 0, 0, 0, 0, 1, 0, 0, 1, 0, 1, 0, 0, 1, 0, 1, 0, 0, 1, 0, 0, 0, 1, 0, 1, 1, 1, 1, 0, 0, 1, 1, 1, 0, 0, 0, 0, 0, 0, 0, 0, 0, 0, 1, 0, 1, 0, 0, 1, 1]\n"
     ]
    }
   ],
   "source": [
    "d = data_test[:,[0,1]]\n",
    "result = []\n",
    "for row in d:\n",
    "    result.append(np.random.randint(0,2))\n",
    "    \n",
    "print(result)"
   ]
  },
  {
   "cell_type": "code",
   "execution_count": 7,
   "metadata": {},
   "outputs": [
    {
     "name": "stdout",
     "output_type": "stream",
     "text": [
      "45.0 %\n"
     ]
    }
   ],
   "source": [
    "score = np.sum(result == data_test[:,2])\n",
    "print(score / len(result) * 100,\"%\")"
   ]
  },
  {
   "cell_type": "code",
   "execution_count": 21,
   "metadata": {},
   "outputs": [],
   "source": [
    "def computeP():\n",
    "    Pc1 = np.count_nonzero(data[:,2])\n",
    "    print(Pc1/len(data))\n",
    "    \n",
    "def likelihoodHist(x, histValues, edgeValues):\n",
    "    pass\n",
    "    "
   ]
  },
  {
   "cell_type": "code",
   "execution_count": 44,
   "metadata": {},
   "outputs": [
    {
     "name": "stdout",
     "output_type": "stream",
     "text": [
      "0.6\n",
      "[ 3.  5.  9.  9. 16.  9.  9.]\n",
      "[40.45755098 48.93902339 57.42049579 65.90196819 74.38344059 82.86491299\n",
      " 91.3463854  99.8278578 ]\n"
     ]
    },
    {
     "data": {
      "image/png": "[encoded data removed]",
      "text/plain": [
       "<Figure size 432x288 with 4 Axes>"
      ]
     },
     "metadata": {
      "needs_background": "light"
     },
     "output_type": "display_data"
    }
   ],
   "source": [
    "computeP()\n",
    "    \n",
    "fig, ax = plt.subplots()\n",
    "passed = np.array([i for i in data if i[2] == 1])\n",
    "failed = np.array([i for i in data if i[2] == 0])\n",
    "\n",
    "plt.subplot(2, 2, 1)\n",
    "plt.title(\"Passed first exam\")\n",
    "#Passed first exam\n",
    "n, bins, patches = plt.hist(passed[:, 0], bins='auto')\n",
    "likelihoodHist(data, n, bins)\n",
    "plt.subplot(2, 2, 2)\n",
    "#passed second exam\n",
    "plt.title(\"Passed second exam\")\n",
    "n, bins, patches = plt.hist(passed[:, 1], bins='auto')\n",
    "likelihoodHist(data, n, bins)\n",
    "plt.subplot(2, 2, 3)\n",
    "#failed first exam\n",
    "plt.title(\"Failed first exam\")\n",
    "n, bins, patches = plt.hist(failed[:, 0], bins='auto')\n",
    "likelihoodHist(data, n, bins)\n",
    "plt.subplot(2, 2, 4)\n",
    "#failed first exam\n",
    "plt.title(\"Failed second exam\")\n",
    "n, bins, patches = plt.hist(failed[:, 1], bins='auto')\n",
    "likelihoodHist(data, n, bins)\n",
    "\n",
    "ax.grid(True)\n",
    "fig.tight_layout()\n",
    "\n",
    "plt.show()\n",
    "    \n",
    "# bestk = 1\n",
    "# bestScore = 0\n",
    "# for k in range(1, 8):\n",
    "#     resultKnn = []\n",
    "#     for row in d:\n",
    "#         distances = []\n",
    "#         for model in data:\n",
    "#             distances.append(getDist(row, [model[0], model[1]]))\n",
    "\n",
    "#         # get the array with the k smallest value at beginning\n",
    "#         indices = np.argpartition(distances, k)[:k]\n",
    "        \n",
    "#         # get array of 2 stored value the nearest to current point\n",
    "#         n = [data[i][2] for i in indices[:k]]\n",
    "\n",
    "#         # if egal the exam is passed\n",
    "#         non_zero = np.count_nonzero(n)\n",
    "#         if len(n) - non_zero > non_zero:\n",
    "#             resultKnn.append(0)\n",
    "#         else:\n",
    "#             resultKnn.append(1)\n",
    "            \n",
    "#     score = np.sum(resultKnn == data_test[:,2]) / len(resultKnn) * 100\n",
    "#     if score > bestScore:\n",
    "#         bestScore = score\n",
    "#         bestk = k\n",
    "#     print(score,\"%\")   \n",
    "    \n",
    "# print(\"best score of \", bestScore,\"% is obtained with k =\", bestk )"
   ]
  },
  {
   "cell_type": "code",
   "execution_count": null,
   "metadata": {},
   "outputs": [],
   "source": []
  },
  {
   "cell_type": "code",
   "execution_count": null,
   "metadata": {},
   "outputs": [],
   "source": []
  }
 ],
 "metadata": {
  "kernelspec": {
   "display_name": "Python 3",
   "language": "python",
   "name": "python3"
  },
  "language_info": {
   "codemirror_mode": {
    "name": "ipython",
    "version": 3
   },
   "file_extension": ".py",
   "mimetype": "text/x-python",
   "name": "python",
   "nbconvert_exporter": "python",
   "pygments_lexer": "ipython3",
   "version": "3.7.1"
  }
 },
 "nbformat": 4,
 "nbformat_minor": 4
}
