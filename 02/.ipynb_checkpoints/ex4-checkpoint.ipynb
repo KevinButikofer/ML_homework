{
 "cells": [
  {
   "cell_type": "markdown",
   "metadata": {},
   "source": [
    "## Bütikofer Kevin, Charles-Lewis Jaggi\n"
   ]
  },
  {
   "cell_type": "markdown",
   "metadata": {},
   "source": [
    "# Exercice 4\n",
    "En utilisant knn pour la régression à la place de renvoyer la classe la plus représenté dans les plus proches voisins on renvoie la moyenne du label des plus proches voisin(qui est une valeur en régression et pas une classe).\n",
    "\n",
    "### code\n",
    "\n",
    "pred = np.sum( k_nearest_labels)/len(k_nearest_labels)"
   ]
  },
  {
   "cell_type": "code",
   "execution_count": null,
   "metadata": {},
   "outputs": [],
   "source": []
  }
 ],
 "metadata": {
  "kernelspec": {
   "display_name": "Python 3",
   "language": "python",
   "name": "python3"
  },
  "language_info": {
   "codemirror_mode": {
    "name": "ipython",
    "version": 3
   },
   "file_extension": ".py",
   "mimetype": "text/x-python",
   "name": "python",
   "nbconvert_exporter": "python",
   "pygments_lexer": "ipython3",
   "version": "3.7.4"
  }
 },
 "nbformat": 4,
 "nbformat_minor": 4
}
