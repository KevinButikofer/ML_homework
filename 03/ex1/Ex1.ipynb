{
 "cells": [
  {
   "cell_type": "code",
   "execution_count": 1,
   "metadata": {},
   "outputs": [],
   "source": [
    "#Bütikofer Kevin, Charles-Lewis Jaggi\n",
    "\n",
    "import numpy as np\n",
    "import matplotlib.pyplot as plt "
   ]
  },
  {
   "cell_type": "code",
   "execution_count": 2,
   "metadata": {},
   "outputs": [],
   "source": [
    "textfile = open('ex1-data-train.csv')\n",
    "data = []\n",
    "for line in textfile:\n",
    "    row_data = line.strip(\"\\n\").split(\",\")\n",
    "    for i, item in enumerate(row_data):\n",
    "        try:\n",
    "            row_data[i] = float(item)\n",
    "        except ValueError:\n",
    "            pass\n",
    "    data.append(row_data)\n",
    "data = np.array(data)"
   ]
  },
  {
   "cell_type": "code",
   "execution_count": 3,
   "metadata": {},
   "outputs": [],
   "source": [
    "textfile = open('ex1-data-test.csv')\n",
    "data_test = []\n",
    "for line in textfile:\n",
    "    row_data = line.strip(\"\\n\").split(\",\")\n",
    "    for i, item in enumerate(row_data):\n",
    "        try:\n",
    "            row_data[i] = float(item)\n",
    "        except ValueError:\n",
    "            pass\n",
    "    data_test.append(row_data)\n",
    "data_test = np.array(data_test)"
   ]
  },
  {
   "cell_type": "code",
   "execution_count": 4,
   "metadata": {},
   "outputs": [
    {
     "data": {
      "image/png": "[encoded data removed]",
      "text/plain": [
       "<Figure size 432x288 with 1 Axes>"
      ]
     },
     "metadata": {
      "needs_background": "light"
     },
     "output_type": "display_data"
    }
   ],
   "source": [
    "fig, ax = plt.subplots()\n",
    "passed = np.array([i for i in data if i[2] == 1])\n",
    "failed = np.array([i for i in data if i[2] == 0])\n",
    "\n",
    "ax.scatter(passed[:,0], passed[:,1], marker='o')\n",
    "ax.scatter(failed[:,0], failed[:,1], marker='x')\n",
    "\n",
    "ax.set_xlabel('Exam 1 score x1', fontsize=15)\n",
    "ax.set_ylabel('Exam 2 score x2', fontsize=15)\n",
    "\n",
    "ax.grid(True)\n",
    "fig.tight_layout()\n",
    "\n",
    "plt.show()"
   ]
  },
  {
   "cell_type": "code",
   "execution_count": 5,
   "metadata": {},
   "outputs": [],
   "source": [
    "d = data_test[:,[0,1]]"
   ]
  },
  {
   "cell_type": "code",
   "execution_count": 100,
   "metadata": {},
   "outputs": [],
   "source": [
    "def likelihoodHist(x, histValues, edgeValues):\n",
    "    bin_idx = 0\n",
    "    if x <edgeValues[0] or x >edgeValues[-1]:\n",
    "        return 0\n",
    "    for i in range(len(edgeValues)):\n",
    "        if x < edgeValues[i]:\n",
    "            bin_idx = i-1\n",
    "            break\n",
    "    return histValues[bin_idx] / np.sum(histValues)\n",
    "    "
   ]
  },
  {
   "cell_type": "code",
   "execution_count": 104,
   "metadata": {},
   "outputs": [
    {
     "name": "stdout",
     "output_type": "stream",
     "text": [
      "0.4\n",
      "0\n",
      "[40.45755098 48.93902339 57.42049579 65.90196819 74.38344059 82.86491299\n",
      " 91.3463854  99.8278578 ]\n",
      "[ 5. 16.  6.  5.  6.  0.  2.]\n"
     ]
    },
    {
     "data": {
      "image/png": "[encoded data removed]",
      "text/plain": [
       "<Figure size 432x288 with 4 Axes>"
      ]
     },
     "metadata": {
      "needs_background": "light"
     },
     "output_type": "display_data"
    },
    {
     "name": "stdout",
     "output_type": "stream",
     "text": [
      "70.0\n",
      "73.0\n",
      "88.0\n"
     ]
    }
   ],
   "source": [
    "Pc1 = np.count_nonzero(data[:,2]) / len(data)\n",
    "Pc0 = 1 - Pc1\n",
    "print(Pc0)\n",
    "    \n",
    "fig, ax = plt.subplots()\n",
    "passed = np.array([i for i in data if i[2] == 1])\n",
    "failed = np.array([i for i in data if i[2] == 0])\n",
    "\n",
    "plt.subplot(2, 2, 1)\n",
    "plt.title(\"Passed first exam\")\n",
    "#Passed first exam\n",
    "hist_x1_p, bins_x1_p, patches = plt.hist(passed[:, 0], bins='auto')\n",
    "plt.subplot(2, 2, 2)\n",
    "#passed second exam\n",
    "plt.title(\"Passed second exam\")\n",
    "hist_x2_p, bins_x2_p, patches = plt.hist(passed[:, 1], bins='auto')\n",
    "plt.subplot(2, 2, 3)\n",
    "#failed first exam\n",
    "plt.title(\"Failed first exam\")\n",
    "hist_x1_f, bins_x1_f, patches = plt.hist(failed[:, 0], bins='auto')\n",
    "plt.subplot(2, 2, 4)\n",
    "#failed first exam\n",
    "plt.title(\"Failed second exam\")\n",
    "hist_x2_f, bins_x2_f, patches = plt.hist(failed[:, 1], bins='auto')\n",
    "\n",
    "print(likelihoodHist(1212, hist_x1_p, bins_x1_p))\n",
    "print(bins_x1_p)\n",
    "print(hist_x2_f)\n",
    "\n",
    "\n",
    "ax.grid(True)\n",
    "fig.tight_layout()\n",
    "\n",
    "plt.show()\n",
    "\n",
    "y_pred = []\n",
    "for row in d:\n",
    "    p = likelihoodHist(row[0], hist_x1_p, bins_x1_p) * Pc1\n",
    "    f = likelihoodHist(row[0], hist_x1_f, bins_x1_f) * Pc0\n",
    "    y_pred.append(1 if p > f else 0)   \n",
    "score = np.sum(y_pred == data_test[:,2]) / len(y_pred) * 100\n",
    "print(score)\n",
    "\n",
    "y_pred = []\n",
    "for row in d:\n",
    "    p = likelihoodHist(row[1], hist_x2_p, bins_x2_p) * Pc1\n",
    "    f = likelihoodHist(row[1], hist_x2_f, bins_x2_f) * Pc0\n",
    "    y_pred.append(1 if p > f else 0)   \n",
    "score = np.sum(y_pred == data_test[:,2]) / len(y_pred) * 100\n",
    "print(score)\n",
    "\n",
    "y_pred = []\n",
    "for row in d:    \n",
    "    p = likelihoodHist(row[0], hist_x1_p, bins_x1_p) * likelihoodHist(row[1], hist_x2_p, bins_x2_p) * Pc1\n",
    "    f = likelihoodHist(row[0], hist_x1_f, bins_x1_f) * likelihoodHist(row[1], hist_x2_f, bins_x2_f) * Pc0\n",
    "    \n",
    "    y_pred.append(1 if p > f else 0) \n",
    "\n",
    "score = np.sum(y_pred == data_test[:,2]) / len(y_pred) * 100\n",
    "\n",
    "\n",
    "print(score)"
   ]
  },
  {
   "cell_type": "code",
   "execution_count": 113,
   "metadata": {},
   "outputs": [
    {
     "name": "stdout",
     "output_type": "stream",
     "text": [
      "71.0\n",
      "72.0\n",
      "89.0\n"
     ]
    }
   ],
   "source": [
    "def likelihood_univarianteGausian(x,mean,var):\n",
    "    return (1/((2*np.pi*var)**(1/2))) * np.exp(-(1/(2*var))*(x-mean)**2)\n",
    "    \n",
    "mean_x1_passed = np.mean(passed[:, 0])\n",
    "var_x1_passed = np.var(passed[:, 0])\n",
    "\n",
    "mean_x1_failed = np.mean(failed[:, 0])\n",
    "var_x1_failed = np.var(failed[:, 0])\n",
    "\n",
    "mean_x2_passed = np.mean(passed[:, 1])\n",
    "var_x2_passed = np.var(passed[:, 1])\n",
    "\n",
    "mean_x2_failed = np.mean(failed[:, 1])\n",
    "var_x2_failed = np.var(failed[:, 1])\n",
    "\n",
    "y_pred = []\n",
    "for row in d:\n",
    "    p = likelihood_univarianteGausian(row[0], mean_x1_passed, var_x1_passed) * Pc1\n",
    "    f = likelihood_univarianteGausian(row[0], mean_x1_failed, var_x1_failed) * Pc0\n",
    "    y_pred.append(1 if p > f else 0)   \n",
    "score = np.sum(y_pred == data_test[:,2]) / len(y_pred) * 100\n",
    "print(score)\n",
    "\n",
    "y_pred = []\n",
    "for row in d:\n",
    "    p = likelihood_univarianteGausian(row[1], mean_x2_passed, var_x2_passed) * Pc1\n",
    "    f = likelihood_univarianteGausian(row[1], mean_x2_failed, var_x2_failed) * Pc0\n",
    "    y_pred.append(1 if p > f else 0)   \n",
    "score = np.sum(y_pred == data_test[:,2]) / len(y_pred) * 100\n",
    "print(score)\n",
    "\n",
    "y_pred = []\n",
    "for row in d:    \n",
    "    p = likelihood_univarianteGausian(row[0], mean_x1_passed, var_x1_passed) * likelihood_univarianteGausian(row[1], mean_x2_passed, var_x2_passed) * Pc1\n",
    "    f = likelihood_univarianteGausian(row[0], mean_x1_failed, var_x1_failed) * likelihood_univarianteGausian(row[1], mean_x2_failed, var_x2_failed) * Pc0\n",
    "    \n",
    "    y_pred.append(1 if p > f else 0) \n",
    "\n",
    "score = np.sum(y_pred == data_test[:,2]) / len(y_pred) * 100\n",
    "\n",
    "\n",
    "print(score)"
   ]
  },
  {
   "cell_type": "code",
   "execution_count": null,
   "metadata": {},
   "outputs": [],
   "source": []
  }
 ],
 "metadata": {
  "kernelspec": {
   "display_name": "Python 3",
   "language": "python",
   "name": "python3"
  },
  "language_info": {
   "codemirror_mode": {
    "name": "ipython",
    "version": 3
   },
   "file_extension": ".py",
   "mimetype": "text/x-python",
   "name": "python",
   "nbconvert_exporter": "python",
   "pygments_lexer": "ipython3",
   "version": "3.7.4"
  }
 },
 "nbformat": 4,
 "nbformat_minor": 4
}
