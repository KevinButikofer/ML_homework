{
 "cells": [
  {
   "cell_type": "markdown",
   "metadata": {},
   "source": [
    "# Bütikofer Kevin, Charles-Lewis Jaggi"
   ]
  },
  {
   "cell_type": "markdown",
   "metadata": {},
   "source": [
    "a) Lorsque le dataset est tres grand. En effet si le dataset est grand calculer l'inverse de la matrice Xt*X va prendre beaucoup de temps. \n"
   ]
  },
  {
   "cell_type": "markdown",
   "metadata": {},
   "source": [
    "b) L'impact peut etre grand. On prend un x au hasard dans le set donc si on tombe sur un outlier le theta va prendre une valeur aberrante et on donc soit diverger soit tomber sur une valeur aberrante de theta "
   ]
  },
  {
   "cell_type": "markdown",
   "metadata": {},
   "source": [
    "c) Si trop grand on va ossiller autour du bon theta ou diverger et un outlier peut avoir une grande influence. Si trop petit on va prendre beaucoup d'iteration pour atteindre un theta.\n",
    "\n",
    "On peut combiner les deux techniques du slide 37. On garde le epsilon pour s'arreter si on atteind une epoque suiffisante mais pour ne pas faire une boucle infini si on atteind pas cette limite on garde un nombre d'iteration maximum."
   ]
  },
  {
   "cell_type": "markdown",
   "metadata": {},
   "source": [
    "d) On ajoute à la matrice une colonne avec xd^2 et une avec c^3 et on procède comme dans les exercices.\n",
    "\n",
    "On a pas besoin de prendre de précaution"
   ]
  },
  {
   "cell_type": "markdown",
   "metadata": {},
   "source": [
    "e) Je ne vois pas\n",
    "\n",
    "\n",
    "\n"
   ]
  }
 ],
 "metadata": {
  "kernelspec": {
   "display_name": "Python 3",
   "language": "python",
   "name": "python3"
  },
  "language_info": {
   "codemirror_mode": {
    "name": "ipython",
    "version": 3
   },
   "file_extension": ".py",
   "mimetype": "text/x-python",
   "name": "python",
   "nbconvert_exporter": "python",
   "pygments_lexer": "ipython3",
   "version": "3.7.1"
  }
 },
 "nbformat": 4,
 "nbformat_minor": 4
}
