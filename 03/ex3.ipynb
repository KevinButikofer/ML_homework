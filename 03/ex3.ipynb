{
 "cells": [
  {
   "cell_type": "markdown",
   "metadata": {},
   "source": [
    "# Bütikofer Kevin, Charles-Lewis Jaggi"
   ]
  },
  {
   "cell_type": "markdown",
   "metadata": {},
   "source": [
    "## a)\n",
    "The prior probability has to be compute for each class as number of apparition of class x divide by the total number of data.\n",
    "For the likehood estimator we can take the state of each pixel of the image has multivariate x and compute for each classes.\n",
    "And for predicting we multiply the likehood for each pixels and at the end by the class prior probability and we take the best result.\n",
    "\n",
    "\n",
    "We could use an histogramme likelihood with one bar for each pixel value (0 to 255).\n",
    "\n"
   ]
  },
  {
   "cell_type": "code",
   "execution_count": null,
   "metadata": {},
   "outputs": [],
   "source": []
  }
 ],
 "metadata": {
  "kernelspec": {
   "display_name": "Python 3",
   "language": "python",
   "name": "python3"
  },
  "language_info": {
   "codemirror_mode": {
    "name": "ipython",
    "version": 3
   },
   "file_extension": ".py",
   "mimetype": "text/x-python",
   "name": "python",
   "nbconvert_exporter": "python",
   "pygments_lexer": "ipython3",
   "version": "3.7.4"
  }
 },
 "nbformat": 4,
 "nbformat_minor": 4
}
