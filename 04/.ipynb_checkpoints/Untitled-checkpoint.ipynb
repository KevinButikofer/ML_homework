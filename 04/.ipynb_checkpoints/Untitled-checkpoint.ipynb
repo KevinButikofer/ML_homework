{
 "cells": [
  {
   "cell_type": "code",
   "execution_count": 2,
   "metadata": {},
   "outputs": [],
   "source": [
    "import pandas as pd\n",
    "import numpy as np\n",
    "import matplotlib.pyplot as plt \n",
    "\n",
    "xl_file = pd.ExcelFile(\"lausanne-appart.xlsx\")\n",
    "\n",
    "data =  np.array(xl_file.parse(\"Lausanne-appart\"))\n",
    "x = data[:,0]\n",
    "y = data[:,2]"
   ]
  },
  {
   "cell_type": "code",
   "execution_count": 4,
   "metadata": {},
   "outputs": [
    {
     "data": {
      "text/plain": [
       "(array([36., 56., 44., 34., 12.,  4.,  7.,  5.,  2.,  1.]),\n",
       " array([ 685. , 1354.8, 2024.6, 2694.4, 3364.2, 4034. , 4703.8, 5373.6,\n",
       "        6043.4, 6713.2, 7383. ]),\n",
       " <a list of 10 Patch objects>)"
      ]
     },
     "execution_count": 4,
     "metadata": {},
     "output_type": "execute_result"
    },
    {
     "data": {
      "image/png": "[encoded data removed]",
      "text/plain": [
       "<Figure size 432x288 with 1 Axes>"
      ]
     },
     "metadata": {
      "needs_background": "light"
     },
     "output_type": "display_data"
    }
   ],
   "source": [
    "plt.subplot(1,1,2)\n",
    "plt.hist(x)\n",
    "plt.subplot(1,2,2)\n",
    "plt.hist(y)"
   ]
  },
  {
   "cell_type": "code",
   "execution_count": null,
   "metadata": {},
   "outputs": [],
   "source": []
  }
 ],
 "metadata": {
  "kernelspec": {
   "display_name": "Python 3",
   "language": "python",
   "name": "python3"
  }
 },
 "nbformat": 4,
 "nbformat_minor": 2
}
