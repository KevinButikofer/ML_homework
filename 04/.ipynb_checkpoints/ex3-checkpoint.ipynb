{
 "cells": [
  {
   "cell_type": "code",
   "execution_count": 27,
   "metadata": {},
   "outputs": [],
   "source": [
    "#Bütikofer Kevin, Charles-Lewis Jaggi\n",
    "\n",
    "import pandas as pd\n",
    "import numpy as np\n",
    "import matplotlib.pyplot as plt \n",
    "\n",
    "xl_file = pd.ExcelFile(\"lausanne-appart.xlsx\")\n",
    "\n",
    "data =  np.array(xl_file.parse(\"Lausanne-appart\")) # sheet name\n",
    "x = data[:,0]\n",
    "y = data[:,2]"
   ]
  },
  {
   "cell_type": "code",
   "execution_count": 28,
   "metadata": {},
   "outputs": [],
   "source": [
    "n = len(x)\n",
    "x_bias = np.ones((n,1))\n",
    "x_matrice = np.reshape(x,(n,1))\n",
    "X = np.append(x_matrice,x_bias,axis=1)\n",
    "alpha = 0.0000001\n",
    "epsilon = 0.000001"
   ]
  },
  {
   "cell_type": "code",
   "execution_count": 29,
   "metadata": {},
   "outputs": [],
   "source": [
    "def gradient_step(h,X,theta):\n",
    "    return theta - (alpha/n) * np.sum((h(x)-y)*X)\n",
    "\n",
    "def J_theta(h):\n",
    "    return np.sum(np.square(h(x)-y))/(2*n)\n",
    "\n",
    "def stop(j_n_1, j):\n",
    "    return not (j_n_1 -j)/j < epsilon                         "
   ]
  },
  {
   "cell_type": "code",
   "execution_count": 30,
   "metadata": {},
   "outputs": [],
   "source": [
    "thetas = np.array([0.0,0.0])\n",
    "h = np.poly1d(thetas)\n",
    "Js = []\n",
    "Js.append(J_theta(h))\n",
    "\n",
    "thetas[1]= gradient_step(h,X[:,1],thetas[1])\n",
    "thetas[0]= gradient_step(h,X[:,0],thetas[0])\n",
    "h = np.poly1d(thetas)\n",
    "Js.append(J_theta(h))\n",
    "\n",
    "while(stop(Js[-2],Js[-1])):\n",
    "    thetas[1]= gradient_step(h,X[:,1],thetas[1])\n",
    "    thetas[0]= gradient_step(h,X[:,0],thetas[0])\n",
    "    \n",
    "    h = np.poly1d(thetas)\n",
    "    Js.append(J_theta(h))\n",
    "    "
   ]
  },
  {
   "cell_type": "code",
   "execution_count": 31,
   "metadata": {},
   "outputs": [
    {
     "data": {
      "text/plain": [
       "<matplotlib.collections.PathCollection at 0x1078ef0>"
      ]
     },
     "execution_count": 31,
     "metadata": {},
     "output_type": "execute_result"
    },
    {
     "data": {
      "image/png": "[encoded data removed]",
      "text/plain": [
       "<Figure size 432x288 with 1 Axes>"
      ]
     },
     "metadata": {
      "needs_background": "light"
     },
     "output_type": "display_data"
    }
   ],
   "source": [
    "new_x = np.linspace(0, 250, 250)\n",
    "new_y = h(new_x)\n",
    "plt.plot(new_x, new_y, color=\"red\")\n",
    "plt.scatter(x,y)"
   ]
  },
  {
   "cell_type": "code",
   "execution_count": 32,
   "metadata": {},
   "outputs": [
    {
     "name": "stdout",
     "output_type": "stream",
     "text": [
      "Overall cost value:  144245.9201958778\n"
     ]
    }
   ],
   "source": [
    "print(\"Overall cost value: \", Js[-1])"
   ]
  },
  {
   "cell_type": "code",
   "execution_count": null,
   "metadata": {},
   "outputs": [],
   "source": []
  }
 ],
 "metadata": {
  "kernelspec": {
   "display_name": "Python 3",
   "language": "python",
   "name": "python3"
  },
  "language_info": {
   "codemirror_mode": {
    "name": "ipython",
    "version": 3
   },
   "file_extension": ".py",
   "mimetype": "text/x-python",
   "name": "python",
   "nbconvert_exporter": "python",
   "pygments_lexer": "ipython3",
   "version": "3.7.1"
  }
 },
 "nbformat": 4,
 "nbformat_minor": 4
}
