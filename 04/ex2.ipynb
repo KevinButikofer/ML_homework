{
 "cells": [
  {
   "cell_type": "code",
   "execution_count": 72,
   "metadata": {},
   "outputs": [],
   "source": [
    "#Bütikofer Kevin, Charles-Lewis Jaggi\n",
    "import pandas as pd\n",
    "import numpy as np\n",
    "import matplotlib.pyplot as plt \n",
    "\n",
    "xl_file = pd.ExcelFile(\"lausanne-appart.xlsx\")\n",
    "\n",
    "data =  np.array(xl_file.parse(\"Lausanne-appart\")) # sheet name\n",
    "x = data[:,0]\n",
    "y = data[:,2]"
   ]
  },
  {
   "cell_type": "code",
   "execution_count": 141,
   "metadata": {},
   "outputs": [
    {
     "name": "stdout",
     "output_type": "stream",
     "text": [
      "[ 26.33242457 240.07710727] theta calcul\n",
      "[ 26.33242457 240.07710727] theta polyfit\n"
     ]
    }
   ],
   "source": [
    "n = len(x)\n",
    "x_bias = np.ones((n,1))\n",
    "x_matrice = np.reshape(x,(n,1))\n",
    "X = np.append(x_matrice,x_bias,axis=1)\n",
    "\n",
    "Xt = np.transpose(X)\n",
    "XtX = np.dot(Xt,X)\n",
    "Xty = np.dot(Xt,y)\n",
    "\n",
    "theta = np.linalg.solve(XtX,Xty)\n",
    "\n",
    "# for confirm calcul\n",
    "x_test = np.reshape(x,m)\n",
    "theta_conf = np.polyfit(x_test,y,1)\n",
    "\n",
    "print(theta, \"theta calcul\")\n",
    "print(theta_conf, \"theta polyfit\")"
   ]
  },
  {
   "cell_type": "code",
   "execution_count": 145,
   "metadata": {},
   "outputs": [
    {
     "data": {
      "text/plain": [
       "<matplotlib.collections.PathCollection at 0x231b163edc8>"
      ]
     },
     "execution_count": 145,
     "metadata": {},
     "output_type": "execute_result"
    },
    {
     "data": {
      "image/png": "[encoded data removed]",
      "text/plain": [
       "<Figure size 432x288 with 1 Axes>"
      ]
     },
     "metadata": {
      "needs_background": "light"
     },
     "output_type": "display_data"
    }
   ],
   "source": [
    "new_x = np.linspace(0, 250, 250)\n",
    "new_y = new_x * theta[0] + theta[1]\n",
    "plt.plot(new_x, new_y, color=\"red\")\n",
    "plt.scatter(x,y)"
   ]
  },
  {
   "cell_type": "code",
   "execution_count": 147,
   "metadata": {},
   "outputs": [
    {
     "name": "stdout",
     "output_type": "stream",
     "text": [
      "Overall cost value:  138034.95779787414\n"
     ]
    }
   ],
   "source": [
    "h = np.poly1d(theta)\n",
    "sub = h(x)-y\n",
    "print(\"Overall cost value: \", np.sum(np.square(sub))/(2*n))"
   ]
  },
  {
   "cell_type": "code",
   "execution_count": null,
   "metadata": {},
   "outputs": [],
   "source": []
  }
 ],
 "metadata": {
  "kernelspec": {
   "display_name": "Python 3",
   "language": "python",
   "name": "python3"
  },
  "language_info": {
   "codemirror_mode": {
    "name": "ipython",
    "version": 3
   },
   "file_extension": ".py",
   "mimetype": "text/x-python",
   "name": "python",
   "nbconvert_exporter": "python",
   "pygments_lexer": "ipython3",
   "version": "3.7.4"
  }
 },
 "nbformat": 4,
 "nbformat_minor": 4
}
