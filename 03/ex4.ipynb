{
 "cells": [
  {
   "cell_type": "markdown",
   "metadata": {},
   "source": [
    "# Bütikofer Kevin, Charles-Lewis Jaggi"
   ]
  },
  {
   "cell_type": "markdown",
   "metadata": {},
   "source": [
    "## a)\n",
    "This is O(Nd)\n",
    "\n",
    "- N : Number of training examples\n",
    "- d : dimensionality of the features (here 1)\n",
    "\n",
    "so here O(N)"
   ]
  },
  {
   "cell_type": "markdown",
   "metadata": {},
   "source": [
    "## b)\n",
    "1. prendre une classe aléatoirement en respectant les proportions de probabilité à priori des classes P(Ck)\n",
    "2. Dans la classe prendre aléatoirement un x en respectant les proportions de probabilité de la classe P(x|Ck)"
   ]
  },
  {
   "cell_type": "markdown",
   "metadata": {},
   "source": [
    "## c)\n",
    "\n",
    "P(Ca) = 5/6\n",
    "\n",
    "P(Cb) = 1/6\n",
    "\n",
    "5/6 = 83.3 % so minimum overall accuracy is (Number of A in test set)/(Total input in test set)\n",
    "\n",
    "Cause almost all output will be A cause of the large probability \n"
   ]
  },
  {
   "cell_type": "code",
   "execution_count": null,
   "metadata": {},
   "outputs": [],
   "source": []
  }
 ],
 "metadata": {
  "kernelspec": {
   "display_name": "Python 3",
   "language": "python",
   "name": "python3"
  },
  "language_info": {
   "codemirror_mode": {
    "name": "ipython",
    "version": 3
   },
   "file_extension": ".py",
   "mimetype": "text/x-python",
   "name": "python",
   "nbconvert_exporter": "python",
   "pygments_lexer": "ipython3",
   "version": "3.7.1"
  }
 },
 "nbformat": 4,
 "nbformat_minor": 4
}
