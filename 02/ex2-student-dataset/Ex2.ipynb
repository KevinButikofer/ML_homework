{
 "cells": [
  {
   "cell_type": "code",
   "execution_count": 1,
   "metadata": {},
   "outputs": [],
   "source": [
    "#Bütikofer Kevin, Charles-Lewis Jaggi\n",
    "\n",
    "import numpy as np\n",
    "import matplotlib.pyplot as plt "
   ]
  },
  {
   "cell_type": "code",
   "execution_count": 2,
   "metadata": {},
   "outputs": [],
   "source": [
    "textfile = open('ex1-data-train.csv')\n",
    "data = []\n",
    "for line in textfile:\n",
    "    row_data = line.strip(\"\\n\").split(\",\")\n",
    "    for i, item in enumerate(row_data):\n",
    "        try:\n",
    "            row_data[i] = float(item)\n",
    "        except ValueError:\n",
    "            pass\n",
    "    data.append(row_data)\n",
    "data = np.array(data)"
   ]
  },
  {
   "cell_type": "code",
   "execution_count": 3,
   "metadata": {},
   "outputs": [],
   "source": [
    "textfile = open('ex1-data-test.csv')\n",
    "data_test = []\n",
    "for line in textfile:\n",
    "    row_data = line.strip(\"\\n\").split(\",\")\n",
    "    for i, item in enumerate(row_data):\n",
    "        try:\n",
    "            row_data[i] = float(item)\n",
    "        except ValueError:\n",
    "            pass\n",
    "    data_test.append(row_data)\n",
    "data_test = np.array(data_test)"
   ]
  },
  {
   "cell_type": "code",
   "execution_count": 4,
   "metadata": {},
   "outputs": [
    {
     "data": {
      "image/png": "[encoded data removed]",
      "text/plain": [
       "<Figure size 432x288 with 1 Axes>"
      ]
     },
     "metadata": {
      "needs_background": "light"
     },
     "output_type": "display_data"
    }
   ],
   "source": [
    "fig, ax = plt.subplots()\n",
    "passed = np.array([i for i in data if i[2] == 1])\n",
    "failed = np.array([i for i in data if i[2] == 0])\n",
    "\n",
    "ax.scatter(passed[:,0], passed[:,1], marker='o')\n",
    "ax.scatter(failed[:,0], failed[:,1], marker='x')\n",
    "\n",
    "ax.set_xlabel('Exam 1 score x1', fontsize=15)\n",
    "ax.set_ylabel('Exam 2 score x2', fontsize=15)\n",
    "\n",
    "ax.grid(True)\n",
    "fig.tight_layout()\n",
    "\n",
    "plt.show()"
   ]
  },
  {
   "cell_type": "code",
   "execution_count": 5,
   "metadata": {},
   "outputs": [
    {
     "name": "stdout",
     "output_type": "stream",
     "text": [
      "[1, 0, 0, 1, 1, 0, 1, 1, 0, 1, 0, 0, 0, 1, 1, 1, 1, 1, 0, 1, 1, 1, 1, 1, 0, 0, 0, 1, 1, 0, 1, 1, 1, 1, 0, 1, 0, 0, 0, 0, 1, 0, 1, 0, 0, 1, 1, 1, 0, 0, 1, 0, 0, 1, 1, 0, 0, 0, 0, 1, 1, 0, 0, 0, 1, 0, 0, 1, 0, 1, 1, 1, 0, 0, 0, 0, 1, 0, 0, 1, 1, 0, 0, 0, 1, 1, 0, 1, 0, 0, 1, 1, 0, 0, 1, 1, 1, 1, 1, 1]\n"
     ]
    }
   ],
   "source": [
    "d = data_test[:,[0,1]]\n",
    "result = []\n",
    "for row in d:\n",
    "    result.append(np.random.randint(0,2))\n",
    "    \n",
    "print(result)"
   ]
  },
  {
   "cell_type": "code",
   "execution_count": 6,
   "metadata": {},
   "outputs": [
    {
     "name": "stdout",
     "output_type": "stream",
     "text": [
      "52.0 %\n"
     ]
    }
   ],
   "source": [
    "score = np.sum(result == data_test[:,2])\n",
    "print(score / len(result) * 100,\"%\")"
   ]
  },
  {
   "cell_type": "code",
   "execution_count": 7,
   "metadata": {},
   "outputs": [
    {
     "name": "stdout",
     "output_type": "stream",
     "text": [
      "96.0 %\n",
      "99.0 %\n",
      "97.0 %\n",
      "91.0 %\n",
      "92.0 %\n",
      "90.0 %\n",
      "91.0 %\n",
      "best score of  99.0 % is obtained with k = 2\n"
     ]
    }
   ],
   "source": [
    "#prediction with Knn\n",
    "\n",
    "def getDist(p1, p2):\n",
    "    return np.sqrt(np.square(p1[0]-p2[0]) + np.square(p1[1]-p2[1]))\n",
    "    \n",
    "bestk = 1\n",
    "bestScore = 0\n",
    "for k in range(1, 8):\n",
    "    resultKnn = []\n",
    "    for row in d:\n",
    "        distances = []\n",
    "        for model in data:\n",
    "            distances.append(getDist(row, [model[0], model[1]]))\n",
    "\n",
    "        # get the array with the k smallest value at beginning\n",
    "        indices = np.argpartition(distances, k)[:k]\n",
    "        \n",
    "        # get array of 2 stored value the nearest to current point\n",
    "        n = [data[i][2] for i in indices[:k]]\n",
    "\n",
    "        # if egal the exam is passed\n",
    "        non_zero = np.count_nonzero(n)\n",
    "        if len(n) - non_zero > non_zero:\n",
    "            resultKnn.append(0)\n",
    "        else:\n",
    "            resultKnn.append(1)\n",
    "            \n",
    "    score = np.sum(resultKnn == data_test[:,2]) / len(resultKnn) * 100\n",
    "    if score > bestScore:\n",
    "        bestScore = score\n",
    "        bestk = k\n",
    "    print(score,\"%\")   \n",
    "    \n",
    "print(\"best score of \", bestScore,\"% is obtained with k =\", bestk )"
   ]
  },
  {
   "cell_type": "code",
   "execution_count": null,
   "metadata": {},
   "outputs": [],
   "source": []
  }
 ],
 "metadata": {
  "kernelspec": {
   "display_name": "Python 3",
   "language": "python",
   "name": "python3"
  },
  "language_info": {
   "codemirror_mode": {
    "name": "ipython",
    "version": 3
   },
   "file_extension": ".py",
   "mimetype": "text/x-python",
   "name": "python",
   "nbconvert_exporter": "python",
   "pygments_lexer": "ipython3",
   "version": "3.7.1"
  }
 },
 "nbformat": 4,
 "nbformat_minor": 4
}
