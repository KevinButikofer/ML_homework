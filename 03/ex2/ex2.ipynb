{
 "cells": [
  {
   "cell_type": "code",
   "execution_count": 1,
   "metadata": {},
   "outputs": [],
   "source": [
    "#Bütikofer Kevin, Charles-Lewis Jaggi\n",
    "\n",
    "import numpy as np\n",
    "import matplotlib.pyplot as plt "
   ]
  },
  {
   "cell_type": "code",
   "execution_count": 2,
   "metadata": {},
   "outputs": [],
   "source": [
    "def openFile(fileName):\n",
    "    textfile = open(fileName)\n",
    "    data = []\n",
    "    for line in textfile:\n",
    "        row_data = line.strip(\"\\n\").split(\";\")[0:-1]\n",
    "        for i, item in enumerate(row_data):\n",
    "            try:\n",
    "                row_data[i] = float(item)\n",
    "            except ValueError:\n",
    "                pass\n",
    "        data.append(row_data)\n",
    "    return np.array(data)\n",
    "\n"
   ]
  },
  {
   "cell_type": "markdown",
   "metadata": {},
   "source": [
    "## a)"
   ]
  },
  {
   "cell_type": "code",
   "execution_count": 4,
   "metadata": {},
   "outputs": [],
   "source": [
    "y_pred = []\n",
    "def compute(data):\n",
    "    for row in data:\n",
    "        y_pred.append(np.argmax(row[0:-1]))\n",
    "\n"
   ]
  },
  {
   "cell_type": "markdown",
   "metadata": {},
   "source": [
    "## b), c)"
   ]
  },
  {
   "cell_type": "code",
   "execution_count": 6,
   "metadata": {},
   "outputs": [],
   "source": [
    "def computeMatrix(data):\n",
    "    matrix = np.zeros([10,10])\n",
    "    matrix = matrix.astype(int)\n",
    "    yt = data[:,-1]\n",
    "\n",
    "    for yp, y in zip(y_pred, yt):\n",
    "            matrix[int(y), yp] += 1\n",
    "\n",
    "    precisions = []\n",
    "    recalls = []\n",
    "    f1s = []\n",
    "    for i in range(10):\n",
    "        precisions.append(matrix[i,i]/np.sum(matrix[:,i]))\n",
    "        recalls.append(matrix[i,i]/np.sum(matrix[i,:]))\n",
    "        f1s.append((precisions[-1]*recalls[-1])/precisions[-1]+recalls[-1])\n",
    "\n",
    "    print(matrix)\n",
    "    \n",
    "    print(\"Best precision class index : \", np.argmax(precisions))\n",
    "    print(\"Best recall class index : \", np.argmax(recalls))\n",
    "    print(\"Worst precision class index : \", np.argmin(precisions))\n",
    "    print(\"Worst recall class index : \", np.argmin(recalls))\n",
    "    print(\"Best f1 score class index : \", np.argmax(recalls), \" with f1 = \", max(f1s))\n",
    "    print(\"Worst f1 score class index : \", np.argmin(recalls), \" with f1 = \", min(f1s))"
   ]
  },
  {
   "cell_type": "code",
   "execution_count": 7,
   "metadata": {},
   "outputs": [
    {
     "name": "stdout",
     "output_type": "stream",
     "text": [
      "error :  0.10729999999999995\n",
      "[[ 944    0   11    0    0    2   10    7    5    1]\n",
      " [   0 1112    2    3    1    4    3    1    9    0]\n",
      " [  10    6  921   12   15    3   19   15   26    5]\n",
      " [   1    1   31  862    2   72    5   14   12   10]\n",
      " [   2    3    6    2  910    1   12    6    4   36]\n",
      " [  12    3    6   29   19  768   19    9   21    6]\n",
      " [  14    3   21    2   22   28  865    0    3    0]\n",
      " [   0   14   30    9    7    2    1  929    3   33]\n",
      " [  12   16   18   26   24   46   22   19  772   19]\n",
      " [  10    4    6   22   53   18    0   48    4  844]]\n",
      "Best precision class index :  1\n",
      "Best recall class index :  1\n",
      "Worst precision class index :  5\n",
      "Worst recall class index :  8\n",
      "Best f1 score class index :  1  with f1 =  1.9594713656387666\n",
      "Worst f1 score class index :  8  with f1 =  1.5852156057494866\n"
     ]
    }
   ],
   "source": [
    "data = openFile('ex2-system-a.csv')\n",
    "y_pred = []\n",
    "compute(data)\n",
    "error = 1 - np.sum(y_pred == data[:,-1]) / len(data)\n",
    "print(\"error : \", error)\n",
    "computeMatrix(data)"
   ]
  },
  {
   "cell_type": "code",
   "execution_count": 8,
   "metadata": {},
   "outputs": [
    {
     "name": "stdout",
     "output_type": "stream",
     "text": [
      "error :  0.03869999999999996\n",
      "[[ 963    0    4    1    0    2    6    2    2    0]\n",
      " [   0 1123    3    1    0    0    5    1    2    0]\n",
      " [   5    0  996    7    4    0    4    8    6    2]\n",
      " [   0    0   13  985    0    3    1    3    3    2]\n",
      " [   1    2    4    0  938    1    9    2    5   20]\n",
      " [   8    1    0   27    1  830   12    1    8    4]\n",
      " [   6    3    2    1    7    4  930    1    4    0]\n",
      " [   0    7   18   10    3    1    0  981    0    8]\n",
      " [   7    1    7   19    5    7    4    7  912    5]\n",
      " [   3    4    1   14   11    6    2    8    5  955]]\n",
      "Best precision class index :  1\n",
      "Best recall class index :  1\n",
      "Worst precision class index :  3\n",
      "Worst recall class index :  5\n",
      "Best f1 score class index :  1  with f1 =  1.9788546255506607\n",
      "Worst f1 score class index :  5  with f1 =  1.8609865470852018\n"
     ]
    }
   ],
   "source": [
    "data = openFile('ex2-system-b.csv')\n",
    "y_pred = []\n",
    "compute(data)\n",
    "error = 1 - np.sum(y_pred == data[:,-1]) / len(data)\n",
    "print(\"error : \", error)\n",
    "computeMatrix(data)"
   ]
  },
  {
   "cell_type": "markdown",
   "metadata": {},
   "source": [
    "The second dataset is better for errorrate and f1 score"
   ]
  },
  {
   "cell_type": "code",
   "execution_count": null,
   "metadata": {},
   "outputs": [],
   "source": []
  }
 ],
 "metadata": {
  "kernelspec": {
   "display_name": "Python 3",
   "language": "python",
   "name": "python3"
  },
  "language_info": {
   "codemirror_mode": {
    "name": "ipython",
    "version": 3
   },
   "file_extension": ".py",
   "mimetype": "text/x-python",
   "name": "python",
   "nbconvert_exporter": "python",
   "pygments_lexer": "ipython3",
   "version": "3.7.1"
  }
 },
 "nbformat": 4,
 "nbformat_minor": 4
}
